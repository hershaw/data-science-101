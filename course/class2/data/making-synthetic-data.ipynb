{
 "cells": [
  {
   "cell_type": "markdown",
   "metadata": {},
   "source": [
    "# Generating synthetic data"
   ]
  },
  {
   "cell_type": "code",
   "execution_count": 1,
   "metadata": {
    "collapsed": true
   },
   "outputs": [],
   "source": [
    "import pandas as pd \n",
    "import numpy as np \n",
    "from numpy.random import normal\n",
    "from numpy.random import exponential\n",
    "from numpy.random import choice\n",
    "import string\n",
    "from random import choice as ch "
   ]
  },
  {
   "cell_type": "code",
   "execution_count": 2,
   "metadata": {
    "collapsed": true
   },
   "outputs": [],
   "source": [
    "# number of points to use: \n",
    "n_points = 200"
   ]
  },
  {
   "cell_type": "markdown",
   "metadata": {},
   "source": [
    "## Generating age"
   ]
  },
  {
   "cell_type": "markdown",
   "metadata": {},
   "source": [
    "* not normally distrubuted\n",
    "    * 5% nulls\n",
    "    * 3% ambiguous outliers\n",
    "    * 5% clear outliers (outside of p01, p99)"
   ]
  },
  {
   "cell_type": "code",
   "execution_count": 3,
   "metadata": {
    "collapsed": false
   },
   "outputs": [],
   "source": [
    "# generating an exponential distribution\n",
    "ages = pd.Series([exponential(15) for x in range(n_points)]) + 18\n",
    "\n",
    "# Generating 5% nulls \n",
    "fraction = .05\n",
    "ages.loc[ages.sample(frac=fraction).index] = np.nan\n",
    "\n",
    "# Made only .5% \"super-outlier\", because 5% would affect the means a lot\n",
    "fraction = .005\n",
    "ages.loc[ages.sample(frac=fraction).index] = [normal(180, 50) for x in range(len(ages.sample(frac=fraction)))]\n",
    "\n",
    "# making 1% super-super outlier, to mess up the standard deviation and mean \n",
    "ages.loc[50] = 300000000\n",
    "\n",
    "# Making 4% outliers under 18 \n",
    "fraction = .04\n",
    "ages.loc[ages.sample(frac=fraction).index] = normal(5, 3)\n",
    "\n",
    "# Choosing only positives\n",
    "ages = ages[ages>0]\n",
    "\n",
    "# Making them integers\n",
    "ages = ages.astype(int)"
   ]
  },
  {
   "cell_type": "markdown",
   "metadata": {},
   "source": [
    "# Generating the categorical data"
   ]
  },
  {
   "cell_type": "markdown",
   "metadata": {},
   "source": [
    "* gender\n",
    "    * 40% 'male'\n",
    "    * 55% 'female'\n",
    "    * 2% 'MALE'\n",
    "    * 3% null"
   ]
  },
  {
   "cell_type": "code",
   "execution_count": 4,
   "metadata": {
    "collapsed": false
   },
   "outputs": [],
   "source": [
    "gender = pd.Series([choice(['male', 'female', 'MALE', np.NaN], \n",
    "                           p=[.4, .55, .02, .03]) for x in range(n_points)])"
   ]
  },
  {
   "cell_type": "markdown",
   "metadata": {},
   "source": [
    "## Generating the height data"
   ]
  },
  {
   "cell_type": "markdown",
   "metadata": {},
   "source": [
    "* normally distributed\n",
    "    * 3% 2-sigma outliers\n",
    "    * 2% 3-sigma outliers\n",
    "    * 2% missing data"
   ]
  },
  {
   "cell_type": "code",
   "execution_count": 5,
   "metadata": {
    "collapsed": false
   },
   "outputs": [],
   "source": [
    "heights = pd.Series([normal(170, 15) for x in range(n_points)])\n",
    "\n",
    "# make a couple of super outliers \n",
    "heights.iloc[20] = 252\n",
    "heights.iloc[21] = 65\n",
    "heights.iloc[22] = 235\n",
    "\n",
    "# force to integers: \n",
    "heights = heights.astype(int)\n",
    "\n",
    "# make 2% missing data\n",
    "fraction = .02\n",
    "heights.loc[heights.sample(frac=fraction).index] = np.NaN"
   ]
  },
  {
   "cell_type": "markdown",
   "metadata": {},
   "source": [
    "# Joining them together: "
   ]
  },
  {
   "cell_type": "code",
   "execution_count": 6,
   "metadata": {
    "collapsed": false
   },
   "outputs": [],
   "source": [
    "all_data = pd.DataFrame([ages, heights, gender]).T"
   ]
  },
  {
   "cell_type": "code",
   "execution_count": 7,
   "metadata": {
    "collapsed": true
   },
   "outputs": [],
   "source": [
    "all_data.columns = ['age', 'height', 'gender']"
   ]
  },
  {
   "cell_type": "markdown",
   "metadata": {},
   "source": [
    "Preview:"
   ]
  },
  {
   "cell_type": "code",
   "execution_count": 8,
   "metadata": {
    "collapsed": false
   },
   "outputs": [
    {
     "data": {
      "text/html": [
       "<div>\n",
       "<table border=\"1\" class=\"dataframe\">\n",
       "  <thead>\n",
       "    <tr style=\"text-align: right;\">\n",
       "      <th></th>\n",
       "      <th>age</th>\n",
       "      <th>height</th>\n",
       "      <th>gender</th>\n",
       "    </tr>\n",
       "  </thead>\n",
       "  <tbody>\n",
       "    <tr>\n",
       "      <th>0</th>\n",
       "      <td>88</td>\n",
       "      <td>163</td>\n",
       "      <td>female</td>\n",
       "    </tr>\n",
       "    <tr>\n",
       "      <th>1</th>\n",
       "      <td>29</td>\n",
       "      <td>158</td>\n",
       "      <td>female</td>\n",
       "    </tr>\n",
       "    <tr>\n",
       "      <th>2</th>\n",
       "      <td>42</td>\n",
       "      <td>159</td>\n",
       "      <td>female</td>\n",
       "    </tr>\n",
       "    <tr>\n",
       "      <th>3</th>\n",
       "      <td>25</td>\n",
       "      <td>179</td>\n",
       "      <td>male</td>\n",
       "    </tr>\n",
       "    <tr>\n",
       "      <th>4</th>\n",
       "      <td>32</td>\n",
       "      <td>169</td>\n",
       "      <td>male</td>\n",
       "    </tr>\n",
       "  </tbody>\n",
       "</table>\n",
       "</div>"
      ],
      "text/plain": [
       "  age height  gender\n",
       "0  88    163  female\n",
       "1  29    158  female\n",
       "2  42    159  female\n",
       "3  25    179    male\n",
       "4  32    169    male"
      ]
     },
     "execution_count": 8,
     "metadata": {},
     "output_type": "execute_result"
    }
   ],
   "source": [
    "all_data.head()"
   ]
  },
  {
   "cell_type": "markdown",
   "metadata": {},
   "source": [
    "#### Generating some duplicated data: "
   ]
  },
  {
   "cell_type": "code",
   "execution_count": 9,
   "metadata": {
    "collapsed": false
   },
   "outputs": [],
   "source": [
    "entry = all_data.iloc[4] "
   ]
  },
  {
   "cell_type": "code",
   "execution_count": 10,
   "metadata": {
    "collapsed": false
   },
   "outputs": [
    {
     "data": {
      "text/plain": [
       "age         32\n",
       "height     169\n",
       "gender    male\n",
       "Name: 4, dtype: object"
      ]
     },
     "execution_count": 10,
     "metadata": {},
     "output_type": "execute_result"
    }
   ],
   "source": [
    "entry"
   ]
  },
  {
   "cell_type": "markdown",
   "metadata": {},
   "source": [
    "Making an index:"
   ]
  },
  {
   "cell_type": "code",
   "execution_count": 11,
   "metadata": {
    "collapsed": false
   },
   "outputs": [],
   "source": [
    "n = 10\n",
    "index = [\"\".join(ch(string.ascii_uppercase) for i in range(n)) for x in range(n_points)]\n",
    "\n",
    "# forcing the index of the duplicated data to be duplicated too: \n",
    "for row in range(4,8): \n",
    "    all_data.iloc[row] = entry  \n",
    "    index[row] = 'YPUQAPSOYJ'\n",
    "\n",
    "all_data.index = index"
   ]
  },
  {
   "cell_type": "code",
   "execution_count": 12,
   "metadata": {
    "collapsed": false
   },
   "outputs": [
    {
     "data": {
      "text/html": [
       "<div>\n",
       "<table border=\"1\" class=\"dataframe\">\n",
       "  <thead>\n",
       "    <tr style=\"text-align: right;\">\n",
       "      <th></th>\n",
       "      <th>age</th>\n",
       "      <th>height</th>\n",
       "      <th>gender</th>\n",
       "    </tr>\n",
       "  </thead>\n",
       "  <tbody>\n",
       "    <tr>\n",
       "      <th>CFLOXRHMDR</th>\n",
       "      <td>88</td>\n",
       "      <td>163</td>\n",
       "      <td>female</td>\n",
       "    </tr>\n",
       "    <tr>\n",
       "      <th>FXLJSNLSOG</th>\n",
       "      <td>29</td>\n",
       "      <td>158</td>\n",
       "      <td>female</td>\n",
       "    </tr>\n",
       "    <tr>\n",
       "      <th>FWDIVJKGOI</th>\n",
       "      <td>42</td>\n",
       "      <td>159</td>\n",
       "      <td>female</td>\n",
       "    </tr>\n",
       "    <tr>\n",
       "      <th>YWEBKQWHRE</th>\n",
       "      <td>25</td>\n",
       "      <td>179</td>\n",
       "      <td>male</td>\n",
       "    </tr>\n",
       "    <tr>\n",
       "      <th>YPUQAPSOYJ</th>\n",
       "      <td>32</td>\n",
       "      <td>169</td>\n",
       "      <td>male</td>\n",
       "    </tr>\n",
       "    <tr>\n",
       "      <th>YPUQAPSOYJ</th>\n",
       "      <td>32</td>\n",
       "      <td>169</td>\n",
       "      <td>male</td>\n",
       "    </tr>\n",
       "    <tr>\n",
       "      <th>YPUQAPSOYJ</th>\n",
       "      <td>32</td>\n",
       "      <td>169</td>\n",
       "      <td>male</td>\n",
       "    </tr>\n",
       "    <tr>\n",
       "      <th>YPUQAPSOYJ</th>\n",
       "      <td>32</td>\n",
       "      <td>169</td>\n",
       "      <td>male</td>\n",
       "    </tr>\n",
       "    <tr>\n",
       "      <th>SSZQEGTLNK</th>\n",
       "      <td>NaN</td>\n",
       "      <td>162</td>\n",
       "      <td>male</td>\n",
       "    </tr>\n",
       "    <tr>\n",
       "      <th>PRFEFXNGWN</th>\n",
       "      <td>36</td>\n",
       "      <td>166</td>\n",
       "      <td>female</td>\n",
       "    </tr>\n",
       "    <tr>\n",
       "      <th>IIVXDNOAIV</th>\n",
       "      <td>1</td>\n",
       "      <td>165</td>\n",
       "      <td>female</td>\n",
       "    </tr>\n",
       "    <tr>\n",
       "      <th>VVQYVNRAGQ</th>\n",
       "      <td>18</td>\n",
       "      <td>134</td>\n",
       "      <td>female</td>\n",
       "    </tr>\n",
       "    <tr>\n",
       "      <th>YVEDWPTEEB</th>\n",
       "      <td>31</td>\n",
       "      <td>149</td>\n",
       "      <td>female</td>\n",
       "    </tr>\n",
       "    <tr>\n",
       "      <th>LGPQPJXWPI</th>\n",
       "      <td>34</td>\n",
       "      <td>172</td>\n",
       "      <td>female</td>\n",
       "    </tr>\n",
       "    <tr>\n",
       "      <th>VURXKXJUTM</th>\n",
       "      <td>22</td>\n",
       "      <td>174</td>\n",
       "      <td>female</td>\n",
       "    </tr>\n",
       "    <tr>\n",
       "      <th>CWCFROPRFE</th>\n",
       "      <td>22</td>\n",
       "      <td>NaN</td>\n",
       "      <td>male</td>\n",
       "    </tr>\n",
       "    <tr>\n",
       "      <th>HAFHEBLLVW</th>\n",
       "      <td>26</td>\n",
       "      <td>161</td>\n",
       "      <td>male</td>\n",
       "    </tr>\n",
       "    <tr>\n",
       "      <th>TIHIBNNHAB</th>\n",
       "      <td>45</td>\n",
       "      <td>181</td>\n",
       "      <td>female</td>\n",
       "    </tr>\n",
       "    <tr>\n",
       "      <th>OMOVKQLHYO</th>\n",
       "      <td>27</td>\n",
       "      <td>170</td>\n",
       "      <td>male</td>\n",
       "    </tr>\n",
       "    <tr>\n",
       "      <th>PFCTYIBBNQ</th>\n",
       "      <td>1</td>\n",
       "      <td>173</td>\n",
       "      <td>female</td>\n",
       "    </tr>\n",
       "  </tbody>\n",
       "</table>\n",
       "</div>"
      ],
      "text/plain": [
       "            age height  gender\n",
       "CFLOXRHMDR   88    163  female\n",
       "FXLJSNLSOG   29    158  female\n",
       "FWDIVJKGOI   42    159  female\n",
       "YWEBKQWHRE   25    179    male\n",
       "YPUQAPSOYJ   32    169    male\n",
       "YPUQAPSOYJ   32    169    male\n",
       "YPUQAPSOYJ   32    169    male\n",
       "YPUQAPSOYJ   32    169    male\n",
       "SSZQEGTLNK  NaN    162    male\n",
       "PRFEFXNGWN   36    166  female\n",
       "IIVXDNOAIV    1    165  female\n",
       "VVQYVNRAGQ   18    134  female\n",
       "YVEDWPTEEB   31    149  female\n",
       "LGPQPJXWPI   34    172  female\n",
       "VURXKXJUTM   22    174  female\n",
       "CWCFROPRFE   22    NaN    male\n",
       "HAFHEBLLVW   26    161    male\n",
       "TIHIBNNHAB   45    181  female\n",
       "OMOVKQLHYO   27    170    male\n",
       "PFCTYIBBNQ    1    173  female"
      ]
     },
     "execution_count": 12,
     "metadata": {},
     "output_type": "execute_result"
    }
   ],
   "source": [
    "all_data.head(20)"
   ]
  },
  {
   "cell_type": "code",
   "execution_count": 13,
   "metadata": {
    "collapsed": false
   },
   "outputs": [],
   "source": [
    "all_data.to_csv('all_data.csv')"
   ]
  }
 ],
 "metadata": {
  "kernelspec": {
   "display_name": "Python 3",
   "language": "python",
   "name": "python3"
  },
  "language_info": {
   "codemirror_mode": {
    "name": "ipython",
    "version": 3
   },
   "file_extension": ".py",
   "mimetype": "text/x-python",
   "name": "python",
   "nbconvert_exporter": "python",
   "pygments_lexer": "ipython3",
   "version": "3.4.3"
  }
 },
 "nbformat": 4,
 "nbformat_minor": 1
}
