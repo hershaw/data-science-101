{
 "cells": [
  {
   "cell_type": "code",
   "execution_count": null,
   "metadata": {
    "collapsed": true
   },
   "outputs": [],
   "source": [
    "import pandas as pd\n",
    "from codefiles.datagen import x_plus_noise\n",
    "from codefiles.dataplot import plot_2d\n",
    "import matplotlib.pyplot as plt\n",
    "%matplotlib inline"
   ]
  },
  {
   "cell_type": "markdown",
   "metadata": {},
   "source": [
    "## No randomness, y is a perfect linear function of x"
   ]
  },
  {
   "cell_type": "code",
   "execution_count": null,
   "metadata": {
    "collapsed": false
   },
   "outputs": [],
   "source": [
    "df = x_plus_noise(randomness=0)\n",
    "plot_2d(df)\n",
    "plt.show()\n",
    "print('perfectly correlated x and y: {}'.format(df.x.corr(df.y)))"
   ]
  },
  {
   "cell_type": "markdown",
   "metadata": {},
   "source": [
    "# Now we add just a bit of noise\n"
   ]
  },
  {
   "cell_type": "code",
   "execution_count": null,
   "metadata": {
    "collapsed": false
   },
   "outputs": [],
   "source": [
    "df = x_plus_noise(randomness=0.1)\n",
    "plot_2d(df)\n",
    "plt.show()\n",
    "print('correlation when y is a function of x but with a bit of noise: {}'.format(\n",
    "    df.x.corr(df.y, method='spearman')))"
   ]
  },
  {
   "cell_type": "markdown",
   "metadata": {},
   "source": [
    "## This time let's add a good bit of noise"
   ]
  },
  {
   "cell_type": "code",
   "execution_count": null,
   "metadata": {
    "collapsed": false
   },
   "outputs": [],
   "source": [
    "df = x_plus_noise(randomness=1)\n",
    "plot_2d(df)\n",
    "plt.show()\n",
    "print('correlation when y is a function of x but with lots of noise: {}'.format(\n",
    "    df.x.corr(df.y, method='spearman')))"
   ]
  },
  {
   "cell_type": "markdown",
   "metadata": {},
   "source": [
    "## And now let's check out some negative correlation"
   ]
  },
  {
   "cell_type": "code",
   "execution_count": null,
   "metadata": {
    "collapsed": false
   },
   "outputs": [],
   "source": [
    "df = x_plus_noise(randomness=0, slope=-1)\n",
    "plot_2d(df)\n",
    "plt.show()\n",
    "print('with slope=-1, perfect negative correlation: {}'.format(\n",
    "    df.x.corr(df.y, method='spearman')))"
   ]
  },
  {
   "cell_type": "code",
   "execution_count": null,
   "metadata": {
    "collapsed": true
   },
   "outputs": [],
   "source": []
  }
 ],
 "metadata": {
  "kernelspec": {
   "display_name": "Python 3",
   "language": "python",
   "name": "python3"
  },
  "language_info": {
   "codemirror_mode": {
    "name": "ipython",
    "version": 3
   },
   "file_extension": ".py",
   "mimetype": "text/x-python",
   "name": "python",
   "nbconvert_exporter": "python",
   "pygments_lexer": "ipython3",
   "version": "3.4.3"
  }
 },
 "nbformat": 4,
 "nbformat_minor": 2
}
